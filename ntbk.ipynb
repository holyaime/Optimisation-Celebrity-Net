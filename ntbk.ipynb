{
 "cells": [
  {
   "cell_type": "code",
   "execution_count": 1,
   "metadata": {},
   "outputs": [],
   "source": [
    "import os\n",
    "import numpy as np\n",
    "import torch\n",
    "import random\n",
    "from PIL import Image\n",
    "import torch.nn.functional as F\n",
    "import albumentations as A\n",
    "from celebrity_recognition_ai.ml.data import get_train_and_validation_images_path, CelebrityDataset"
   ]
  },
  {
   "cell_type": "code",
   "execution_count": 2,
   "metadata": {},
   "outputs": [],
   "source": [
    "base_path = \"/Users/thebeast/Downloads/celebrity-data\"\n",
    "\n",
    "\n",
    "\n",
    "(categories,\n",
    " train_images_absolute_paths, \n",
    " validation_images_absolute_paths) = get_train_and_validation_images_path(base_path, percentage_train=0.8)\n"
   ]
  },
  {
   "cell_type": "code",
   "execution_count": 3,
   "metadata": {},
   "outputs": [
    {
     "data": {
      "text/plain": [
       "240"
      ]
     },
     "execution_count": 3,
     "metadata": {},
     "output_type": "execute_result"
    }
   ],
   "source": [
    "len(validation_images_absolute_paths)\n",
    "#categories"
   ]
  },
  {
   "cell_type": "code",
   "execution_count": 4,
   "metadata": {},
   "outputs": [
    {
     "data": {
      "text/plain": [
       "960"
      ]
     },
     "execution_count": 4,
     "metadata": {},
     "output_type": "execute_result"
    }
   ],
   "source": [
    "len(train_images_absolute_paths)\n"
   ]
  },
  {
   "cell_type": "code",
   "execution_count": null,
   "metadata": {},
   "outputs": [],
   "source": []
  },
  {
   "cell_type": "code",
   "execution_count": 5,
   "metadata": {},
   "outputs": [
    {
     "data": {
      "text/plain": [
       "960"
      ]
     },
     "execution_count": 5,
     "metadata": {},
     "output_type": "execute_result"
    }
   ],
   "source": [
    "train_dataset = CelebrityDataset(train_images_absolute_paths, categories)\n",
    "\n",
    "len(train_dataset)"
   ]
  },
  {
   "cell_type": "code",
   "execution_count": 6,
   "metadata": {},
   "outputs": [
    {
     "data": {
      "text/plain": [
       "(tensor([[[151., 149., 148.,  ..., 159., 157., 154.],\n",
       "          [151., 149., 148.,  ..., 165., 165., 163.],\n",
       "          [151., 149., 148.,  ..., 168., 168., 167.],\n",
       "          ...,\n",
       "          [147., 147., 147.,  ...,  54.,  55.,  56.],\n",
       "          [148., 148., 148.,  ...,  51.,  53.,  53.],\n",
       "          [149., 148., 148.,  ...,  55.,  54.,  53.]],\n",
       " \n",
       "         [[149., 148., 147.,  ..., 144., 141., 139.],\n",
       "          [149., 148., 147.,  ..., 150., 150., 147.],\n",
       "          [149., 148., 147.,  ..., 153., 153., 152.],\n",
       "          ...,\n",
       "          [147., 147., 147.,  ...,  24.,  25.,  28.],\n",
       "          [148., 148., 148.,  ...,  23.,  26.,  28.],\n",
       "          [149., 148., 148.,  ...,  30.,  29.,  28.]],\n",
       " \n",
       "         [[145., 144., 143.,  ..., 140., 137., 135.],\n",
       "          [145., 144., 143.,  ..., 146., 146., 143.],\n",
       "          [145., 144., 143.,  ..., 149., 149., 148.],\n",
       "          ...,\n",
       "          [145., 145., 145.,  ...,  13.,  14.,  17.],\n",
       "          [146., 146., 146.,  ...,  12.,  14.,  16.],\n",
       "          [147., 146., 146.,  ...,  18.,  17.,  16.]]]),\n",
       " tensor([1., 0., 0., 0., 0., 0.]))"
      ]
     },
     "execution_count": 6,
     "metadata": {},
     "output_type": "execute_result"
    }
   ],
   "source": [
    "train_dataset[0]"
   ]
  },
  {
   "cell_type": "code",
   "execution_count": 7,
   "metadata": {},
   "outputs": [
    {
     "data": {
      "text/plain": [
       "['didi-b',\n",
       " 'laurent-gbagbo',\n",
       " 'arafat-dj',\n",
       " 'alassane-dramane-ouattara',\n",
       " 'didier-drogba',\n",
       " 'henri-konan-bedie']"
      ]
     },
     "execution_count": 7,
     "metadata": {},
     "output_type": "execute_result"
    }
   ],
   "source": [
    "categories"
   ]
  },
  {
   "cell_type": "code",
   "execution_count": null,
   "metadata": {},
   "outputs": [],
   "source": []
  }
 ],
 "metadata": {
  "kernelspec": {
   "display_name": "celebrity-recognition-ai-IiEhgcRX-py3.9",
   "language": "python",
   "name": "python3"
  },
  "language_info": {
   "codemirror_mode": {
    "name": "ipython",
    "version": 3
   },
   "file_extension": ".py",
   "mimetype": "text/x-python",
   "name": "python",
   "nbconvert_exporter": "python",
   "pygments_lexer": "ipython3",
   "version": "3.9.19"
  },
  "orig_nbformat": 4,
  "vscode": {
   "interpreter": {
    "hash": "e256e3048ea8c595f64f53319d4043cb1d7d99283a4b83846daf805d9307fefd"
   }
  }
 },
 "nbformat": 4,
 "nbformat_minor": 2
}
